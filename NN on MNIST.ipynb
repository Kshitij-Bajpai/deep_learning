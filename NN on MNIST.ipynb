{
  "nbformat": 4,
  "nbformat_minor": 0,
  "metadata": {
    "colab": {
      "name": "titled2.ipynb",
      "provenance": [],
      "authorship_tag": "ABX9TyPT9gK4nCSA9Cg3aXny28GG",
      "include_colab_link": true
    },
    "kernelspec": {
      "name": "python3",
      "display_name": "Python 3"
    },
    "accelerator": "GPU"
  },
  "cells": [
    {
      "cell_type": "markdown",
      "metadata": {
        "id": "view-in-github",
        "colab_type": "text"
      },
      "source": [
        "<a href=\"https://colab.research.google.com/github/Rapheal-Jones/deep_learning/blob/master/NN%20on%20MNIST.ipynb\" target=\"_parent\"><img src=\"https://colab.research.google.com/assets/colab-badge.svg\" alt=\"Open In Colab\"/></a>"
      ]
    },
    {
      "cell_type": "markdown",
      "metadata": {
        "id": "q6pyhAeeHNKz",
        "colab_type": "text"
      },
      "source": [
        "Construction Phase"
      ]
    },
    {
      "cell_type": "code",
      "metadata": {
        "id": "FoAjZyXBC1IN",
        "colab_type": "code",
        "colab": {
          "base_uri": "https://localhost:8080/",
          "height": 63
        },
        "outputId": "5440f658-c80c-438e-ea4a-3a3c34f34de7"
      },
      "source": [
        "import tensorflow as tf"
      ],
      "execution_count": 1,
      "outputs": [
        {
          "output_type": "display_data",
          "data": {
            "text/html": [
              "<p style=\"color: red;\">\n",
              "The default version of TensorFlow in Colab will soon switch to TensorFlow 2.x.<br>\n",
              "We recommend you <a href=\"https://www.tensorflow.org/guide/migrate\" target=\"_blank\">upgrade</a> now \n",
              "or ensure your notebook will continue to use TensorFlow 1.x via the <code>%tensorflow_version 1.x</code> magic:\n",
              "<a href=\"https://colab.research.google.com/notebooks/tensorflow_version.ipynb\" target=\"_blank\">more info</a>.</p>\n"
            ],
            "text/plain": [
              "<IPython.core.display.HTML object>"
            ]
          },
          "metadata": {
            "tags": []
          }
        }
      ]
    },
    {
      "cell_type": "code",
      "metadata": {
        "id": "EVIBFcBeDE39",
        "colab_type": "code",
        "colab": {}
      },
      "source": [
        "n_inputs=28*28\n",
        "n_hidden_1=300\n",
        "n_hidden_2=100\n",
        "n_output=10"
      ],
      "execution_count": 0,
      "outputs": []
    },
    {
      "cell_type": "code",
      "metadata": {
        "id": "iO65bkLODS4z",
        "colab_type": "code",
        "colab": {}
      },
      "source": [
        "X = tf.placeholder(tf.float32,shape=(None,n_inputs),name='Features')\n",
        "Y = tf.placeholder(tf.int64,shape=(None),name='Target')"
      ],
      "execution_count": 0,
      "outputs": []
    },
    {
      "cell_type": "code",
      "metadata": {
        "id": "XoEyK6p6DtXl",
        "colab_type": "code",
        "colab": {}
      },
      "source": [
        "from tensorflow.contrib.layers import fully_connected"
      ],
      "execution_count": 0,
      "outputs": []
    },
    {
      "cell_type": "code",
      "metadata": {
        "id": "PofeuqSyD-JY",
        "colab_type": "code",
        "colab": {
          "base_uri": "https://localhost:8080/",
          "height": 88
        },
        "outputId": "1b881705-6329-4616-cc5c-060056043adb"
      },
      "source": [
        "with tf.name_scope(\"DNN\"):\n",
        "  hidden_1=fully_connected(X,n_hidden_1,scope='hidden_layer_1')\n",
        "  hidden_2=fully_connected(hidden_1,n_hidden_2,scope='hidden_layer_2')\n",
        "  logits=fully_connected(hidden_2,n_output,scope='output_layer',activation_fn=None)"
      ],
      "execution_count": 5,
      "outputs": [
        {
          "output_type": "stream",
          "text": [
            "WARNING:tensorflow:From /tensorflow-1.15.0/python3.6/tensorflow_core/contrib/layers/python/layers/layers.py:1866: Layer.apply (from tensorflow.python.keras.engine.base_layer) is deprecated and will be removed in a future version.\n",
            "Instructions for updating:\n",
            "Please use `layer.__call__` method instead.\n"
          ],
          "name": "stdout"
        }
      ]
    },
    {
      "cell_type": "code",
      "metadata": {
        "id": "XzCerOlOFOlw",
        "colab_type": "code",
        "colab": {}
      },
      "source": [
        "with tf.name_scope(\"Loss\"):\n",
        "  x_entropy=tf.nn.sparse_softmax_cross_entropy_with_logits(labels=Y,logits=logits)\n",
        "  loss=tf.reduce_mean(x_entropy,name='loss')"
      ],
      "execution_count": 0,
      "outputs": []
    },
    {
      "cell_type": "code",
      "metadata": {
        "id": "WYwMLpBuGALb",
        "colab_type": "code",
        "colab": {}
      },
      "source": [
        "learning_rate = 0.01\n",
        "\n",
        "with tf.name_scope(\"Train\"):\n",
        "  optimizer=tf.train.GradientDescentOptimizer(learning_rate)\n",
        "  training_op=optimizer.minimize(loss)"
      ],
      "execution_count": 0,
      "outputs": []
    },
    {
      "cell_type": "code",
      "metadata": {
        "id": "NQtFgRB8GYYf",
        "colab_type": "code",
        "colab": {}
      },
      "source": [
        "with tf.name_scope(\"Eval\"):\n",
        "  correct=tf.nn.in_top_k(logits,Y,1)\n",
        "  accuracy=tf.reduce_mean(tf.cast(correct,tf.float32))"
      ],
      "execution_count": 0,
      "outputs": []
    },
    {
      "cell_type": "code",
      "metadata": {
        "id": "mTd2vSJ5G7t7",
        "colab_type": "code",
        "colab": {}
      },
      "source": [
        "init=tf.global_variables_initializer()\n",
        "saver=tf.train.Saver()"
      ],
      "execution_count": 0,
      "outputs": []
    },
    {
      "cell_type": "markdown",
      "metadata": {
        "id": "0RugC6FmHIMh",
        "colab_type": "text"
      },
      "source": [
        "Execution Phase"
      ]
    },
    {
      "cell_type": "code",
      "metadata": {
        "id": "opuBjwolHGpE",
        "colab_type": "code",
        "colab": {
          "base_uri": "https://localhost:8080/",
          "height": 479
        },
        "outputId": "ab465435-4890-4569-8eb4-a16623b2976d"
      },
      "source": [
        "from tensorflow.examples.tutorials.mnist import input_data\n",
        "mnist=input_data.read_data_sets('tmpdata/')"
      ],
      "execution_count": 11,
      "outputs": [
        {
          "output_type": "stream",
          "text": [
            "WARNING:tensorflow:From <ipython-input-11-a4d360f6d457>:2: read_data_sets (from tensorflow.contrib.learn.python.learn.datasets.mnist) is deprecated and will be removed in a future version.\n",
            "Instructions for updating:\n",
            "Please use alternatives such as official/mnist/dataset.py from tensorflow/models.\n",
            "WARNING:tensorflow:From /tensorflow-1.15.0/python3.6/tensorflow_core/contrib/learn/python/learn/datasets/mnist.py:260: maybe_download (from tensorflow.contrib.learn.python.learn.datasets.base) is deprecated and will be removed in a future version.\n",
            "Instructions for updating:\n",
            "Please write your own downloading logic.\n",
            "WARNING:tensorflow:From /tensorflow-1.15.0/python3.6/tensorflow_core/contrib/learn/python/learn/datasets/base.py:252: _internal_retry.<locals>.wrap.<locals>.wrapped_fn (from tensorflow.contrib.learn.python.learn.datasets.base) is deprecated and will be removed in a future version.\n",
            "Instructions for updating:\n",
            "Please use urllib or similar directly.\n",
            "Successfully downloaded train-images-idx3-ubyte.gz 9912422 bytes.\n",
            "WARNING:tensorflow:From /tensorflow-1.15.0/python3.6/tensorflow_core/contrib/learn/python/learn/datasets/mnist.py:262: extract_images (from tensorflow.contrib.learn.python.learn.datasets.mnist) is deprecated and will be removed in a future version.\n",
            "Instructions for updating:\n",
            "Please use tf.data to implement this functionality.\n",
            "Extracting tmpdata/train-images-idx3-ubyte.gz\n",
            "Successfully downloaded train-labels-idx1-ubyte.gz 28881 bytes.\n",
            "WARNING:tensorflow:From /tensorflow-1.15.0/python3.6/tensorflow_core/contrib/learn/python/learn/datasets/mnist.py:267: extract_labels (from tensorflow.contrib.learn.python.learn.datasets.mnist) is deprecated and will be removed in a future version.\n",
            "Instructions for updating:\n",
            "Please use tf.data to implement this functionality.\n",
            "Extracting tmpdata/train-labels-idx1-ubyte.gz\n",
            "Successfully downloaded t10k-images-idx3-ubyte.gz 1648877 bytes.\n",
            "Extracting tmpdata/t10k-images-idx3-ubyte.gz\n",
            "Successfully downloaded t10k-labels-idx1-ubyte.gz 4542 bytes.\n",
            "Extracting tmpdata/t10k-labels-idx1-ubyte.gz\n",
            "WARNING:tensorflow:From /tensorflow-1.15.0/python3.6/tensorflow_core/contrib/learn/python/learn/datasets/mnist.py:290: DataSet.__init__ (from tensorflow.contrib.learn.python.learn.datasets.mnist) is deprecated and will be removed in a future version.\n",
            "Instructions for updating:\n",
            "Please use alternatives such as official/mnist/dataset.py from tensorflow/models.\n"
          ],
          "name": "stdout"
        }
      ]
    },
    {
      "cell_type": "code",
      "metadata": {
        "id": "XOPUN8vkILrg",
        "colab_type": "code",
        "colab": {
          "base_uri": "https://localhost:8080/",
          "height": 357
        },
        "outputId": "36a4895d-e72f-40ab-82fd-570a3a31e9ac"
      },
      "source": [
        "n_epoch=400\n",
        "batch_size=50\n",
        "\n",
        "with tf.Session() as sess:\n",
        "  init.run()\n",
        "  for epoch in range(n_epoch):\n",
        "    for iterations in range(mnist.train.num_examples//batch_size):\n",
        "      X_batch,Y_batch=mnist.train.next_batch(batch_size)\n",
        "      sess.run(training_op,feed_dict={X:X_batch,Y:Y_batch})\n",
        "    accuracy_train=accuracy.eval(feed_dict={X:X_batch,Y:Y_batch})\n",
        "    accuracy_test=accuracy.eval(feed_dict={X:mnist.test.images,Y:mnist.test.labels})\n",
        "    if epoch%20==0:\n",
        "      print(\"Epoch: \",epoch,\" Train accuracy: \",accuracy_train,\" Test accuracy: \",accuracy_test)\n",
        "  \n",
        "  saver_path=saver.save(sess,\"./titled_2.ckpt\")"
      ],
      "execution_count": 14,
      "outputs": [
        {
          "output_type": "stream",
          "text": [
            "Epoch:  0  Train accuracy:  0.98  Test accuracy:  0.8993\n",
            "Epoch:  20  Train accuracy:  0.98  Test accuracy:  0.9719\n",
            "Epoch:  40  Train accuracy:  1.0  Test accuracy:  0.9784\n",
            "Epoch:  60  Train accuracy:  1.0  Test accuracy:  0.9793\n",
            "Epoch:  80  Train accuracy:  1.0  Test accuracy:  0.9799\n",
            "Epoch:  100  Train accuracy:  1.0  Test accuracy:  0.9803\n",
            "Epoch:  120  Train accuracy:  1.0  Test accuracy:  0.9805\n",
            "Epoch:  140  Train accuracy:  1.0  Test accuracy:  0.9809\n",
            "Epoch:  160  Train accuracy:  1.0  Test accuracy:  0.9812\n",
            "Epoch:  180  Train accuracy:  1.0  Test accuracy:  0.9811\n",
            "Epoch:  200  Train accuracy:  1.0  Test accuracy:  0.9813\n",
            "Epoch:  220  Train accuracy:  1.0  Test accuracy:  0.9813\n",
            "Epoch:  240  Train accuracy:  1.0  Test accuracy:  0.9815\n",
            "Epoch:  260  Train accuracy:  1.0  Test accuracy:  0.9813\n",
            "Epoch:  280  Train accuracy:  1.0  Test accuracy:  0.9813\n",
            "Epoch:  300  Train accuracy:  1.0  Test accuracy:  0.9816\n",
            "Epoch:  320  Train accuracy:  1.0  Test accuracy:  0.9817\n",
            "Epoch:  340  Train accuracy:  1.0  Test accuracy:  0.9813\n",
            "Epoch:  360  Train accuracy:  1.0  Test accuracy:  0.9814\n",
            "Epoch:  380  Train accuracy:  1.0  Test accuracy:  0.9817\n"
          ],
          "name": "stdout"
        }
      ]
    },
    {
      "cell_type": "markdown",
      "metadata": {
        "id": "1dlJq2wYKs8P",
        "colab_type": "text"
      },
      "source": [
        "Evaluation Phase"
      ]
    },
    {
      "cell_type": "code",
      "metadata": {
        "id": "GXlJrrm2XkHF",
        "colab_type": "code",
        "colab": {}
      },
      "source": [
        "import numpy as np"
      ],
      "execution_count": 0,
      "outputs": []
    },
    {
      "cell_type": "code",
      "metadata": {
        "id": "NAkgGa_9Kr9H",
        "colab_type": "code",
        "colab": {
          "base_uri": "https://localhost:8080/",
          "height": 34
        },
        "outputId": "cc520707-30a0-4308-ab7a-0d5fa8d39651"
      },
      "source": [
        "with tf.Session() as sess:\n",
        "  saver.restore(sess,\"./titled_2.ckpt\")\n",
        "  X_new_scaled=mnist.test.images\n",
        "  z=logits.eval(feed_dict={X:X_new_scaled})\n",
        "  y_prediction=np.argmax(z,axis=1)"
      ],
      "execution_count": 17,
      "outputs": [
        {
          "output_type": "stream",
          "text": [
            "INFO:tensorflow:Restoring parameters from ./titled_2.ckpt\n"
          ],
          "name": "stdout"
        }
      ]
    },
    {
      "cell_type": "code",
      "metadata": {
        "id": "iMd86lG9LhoT",
        "colab_type": "code",
        "colab": {
          "base_uri": "https://localhost:8080/",
          "height": 34
        },
        "outputId": "8d99f9d2-dc25-4a1a-ce58-007e7babf2a8"
      },
      "source": [
        "y_prediction"
      ],
      "execution_count": 18,
      "outputs": [
        {
          "output_type": "execute_result",
          "data": {
            "text/plain": [
              "array([7, 2, 1, ..., 4, 5, 6])"
            ]
          },
          "metadata": {
            "tags": []
          },
          "execution_count": 18
        }
      ]
    },
    {
      "cell_type": "code",
      "metadata": {
        "id": "rwYvKN8-Xts8",
        "colab_type": "code",
        "colab": {}
      },
      "source": [
        ""
      ],
      "execution_count": 0,
      "outputs": []
    }
  ]
}