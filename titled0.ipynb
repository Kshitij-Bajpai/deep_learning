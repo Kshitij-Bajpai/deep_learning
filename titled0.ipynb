{
  "nbformat": 4,
  "nbformat_minor": 0,
  "metadata": {
    "colab": {
      "name": "titled0.ipynb",
      "provenance": [],
      "authorship_tag": "ABX9TyMLd4yX8BKPn0wUiFUoFgHN",
      "include_colab_link": true
    },
    "kernelspec": {
      "name": "python3",
      "display_name": "Python 3"
    },
    "accelerator": "GPU"
  },
  "cells": [
    {
      "cell_type": "markdown",
      "metadata": {
        "id": "view-in-github",
        "colab_type": "text"
      },
      "source": [
        "<a href=\"https://colab.research.google.com/github/Rapheal-Jones/deep_learning/blob/master/titled0.ipynb\" target=\"_parent\"><img src=\"https://colab.research.google.com/assets/colab-badge.svg\" alt=\"Open In Colab\"/></a>"
      ]
    },
    {
      "cell_type": "code",
      "metadata": {
        "id": "UB70ylCCYs5c",
        "colab_type": "code",
        "colab": {}
      },
      "source": [
        "import keras\n",
        "from sklearn.preprocessing import LabelBinarizer\n",
        "import matplotlib.pyplot as plt\n",
        "%matplotlib inline"
      ],
      "execution_count": 0,
      "outputs": []
    },
    {
      "cell_type": "code",
      "metadata": {
        "id": "J1He8w_RZwYC",
        "colab_type": "code",
        "colab": {}
      },
      "source": [
        "def load_datasets(flatten=False):\n",
        "  (X_train,Y_train),(X_test,Y_test)=keras.datasets.mnist.load_data()\n",
        "\n",
        "  X_train=X_train.astype(float)/255.\n",
        "  X_test=X_test.astype(float)/255.\n",
        "\n",
        "  X_train,X_val=X_train[:-10000],X_train[-10000:]\n",
        "  Y_train,Y_val=Y_train[:-10000],Y_train[-10000:]\n",
        "\n",
        "  if flatten:\n",
        "    X_train=X_train.reshape([X_train.shape[0],-1])\n",
        "    X_test=X_test.reshape([X_test.shape[0],-1])\n",
        "    X_val=X_val.reshape([X_val.shape[0],-1])\n",
        "  \n",
        "  return X_train,Y_train,X_val,Y_val,X_test,Y_test\n",
        "\n",
        "X_train,Y_train,X_val,Y_val,X_test,Y_test=load_datasets()"
      ],
      "execution_count": 0,
      "outputs": []
    },
    {
      "cell_type": "code",
      "metadata": {
        "id": "htgl-ub-dMO9",
        "colab_type": "code",
        "colab": {}
      },
      "source": [
        "X_train=X_train.reshape((X_train.shape[0],X_train.shape[1]*X_train.shape[2]))\n",
        "X_test=X_test.reshape((X_test.shape[0],X_test.shape[1]*X_test.shape[2]))"
      ],
      "execution_count": 0,
      "outputs": []
    },
    {
      "cell_type": "code",
      "metadata": {
        "id": "vjDL5s6hesQJ",
        "colab_type": "code",
        "colab": {}
      },
      "source": [
        "lb=LabelBinarizer()\n",
        "Y_train=lb.fit_transform(Y_train)\n",
        "Y_test=lb.transform(Y_test)"
      ],
      "execution_count": 0,
      "outputs": []
    },
    {
      "cell_type": "code",
      "metadata": {
        "id": "I6VZn4BahFzy",
        "colab_type": "code",
        "colab": {
          "base_uri": "https://localhost:8080/",
          "height": 71
        },
        "outputId": "b33a0678-5df2-42d9-cdc9-5f19918d2eec"
      },
      "source": [
        "import numpy as np\n",
        "import tensorflow as tf\n",
        "from sklearn.metrics import roc_auc_score,accuracy_score\n",
        "s=tf.InteractiveSession() "
      ],
      "execution_count": 45,
      "outputs": [
        {
          "output_type": "stream",
          "text": [
            "/tensorflow-1.15.0/python3.6/tensorflow_core/python/client/session.py:1750: UserWarning: An interactive session is already active. This can cause out-of-memory errors in some cases. You must explicitly call `InteractiveSession.close()` to release resources held by the other session(s).\n",
            "  warnings.warn('An interactive session is already active. This can '\n"
          ],
          "name": "stderr"
        }
      ]
    },
    {
      "cell_type": "code",
      "metadata": {
        "id": "bTCrmBbUiNLP",
        "colab_type": "code",
        "colab": {}
      },
      "source": [
        "num_classes=Y_train.shape[1]\n",
        "num_features=X_train.shape[1]\n",
        "num_output=Y_train.shape[1]\n",
        "num_layers_0=512\n",
        "num_layers_1=256\n",
        "starter_learning_rate=0.001\n",
        "regularizer_rate=0.1"
      ],
      "execution_count": 0,
      "outputs": []
    },
    {
      "cell_type": "code",
      "metadata": {
        "id": "nl6oj_o1jVPl",
        "colab_type": "code",
        "colab": {}
      },
      "source": [
        "input_X=tf.placeholder('float32',shape=(None,num_features),name='input_X')\n",
        "input_Y=tf.placeholder('float32',shape=(None,num_classes),name='input_Y')\n",
        "\n",
        "keep_prob=tf.placeholder(tf.float32)"
      ],
      "execution_count": 0,
      "outputs": []
    },
    {
      "cell_type": "code",
      "metadata": {
        "id": "5-rEo1vCkP9m",
        "colab_type": "code",
        "colab": {}
      },
      "source": [
        "weights_0 = tf.Variable(tf.random_normal([num_features,num_layers_0], stddev=(1/tf.sqrt(float(num_features)))))\n",
        "bias_0 = tf.Variable(tf.random_normal([num_layers_0]))\n",
        "\n",
        "weights_1 = tf.Variable(tf.random_normal([num_layers_0,num_layers_1], stddev=(1/tf.sqrt(float(num_layers_0)))))\n",
        "bias_1 = tf.Variable(tf.random_normal([num_layers_1]))\n",
        "\n",
        "weights_2 = tf.Variable(tf.random_normal([num_layers_1,num_output], stddev=(1/tf.sqrt(float(num_layers_1)))))\n",
        "bias_2 = tf.Variable(tf.random_normal([num_output]))"
      ],
      "execution_count": 0,
      "outputs": []
    },
    {
      "cell_type": "code",
      "metadata": {
        "id": "h5dJHYxLmMTY",
        "colab_type": "code",
        "colab": {}
      },
      "source": [
        "hidden_layer_0=tf.nn.relu(tf.matmul(input_X,weights_0)+bias_0)\n",
        "hidden_layer_0_0=tf.nn.dropout(hidden_layer_0,keep_prob)\n",
        "\n",
        "hidden_layer_1=tf.nn.relu(tf.matmul(hidden_layer_0_0,weights_1)+bias_1)\n",
        "hidden_layer_1_1=tf.nn.dropout(hidden_layer_1,keep_prob)\n",
        "\n",
        "predicted_Y=tf.sigmoid(tf.matmul(hidden_layer_1_1,weights_2)+bias_2)"
      ],
      "execution_count": 0,
      "outputs": []
    },
    {
      "cell_type": "code",
      "metadata": {
        "id": "llYzSBFroUkT",
        "colab_type": "code",
        "colab": {}
      },
      "source": [
        "loss = tf.reduce_mean(tf.nn.softmax_cross_entropy_with_logits_v2(logits=predicted_Y,labels=input_Y)) \\\n",
        "        + regularizer_rate*(tf.reduce_sum(tf.square(bias_0)) + tf.reduce_sum(tf.square(bias_1)))"
      ],
      "execution_count": 0,
      "outputs": []
    },
    {
      "cell_type": "code",
      "metadata": {
        "id": "v1-ffEXCpprL",
        "colab_type": "code",
        "colab": {}
      },
      "source": [
        "learning_rate = tf.train.exponential_decay(starter_learning_rate, 0, 5, 0.85, staircase=True)\n",
        "\n",
        "optimizer = tf.train.AdamOptimizer(learning_rate).minimize(loss,var_list=[weights_0,weights_1,weights_2,bias_0,bias_1,bias_2])\n"
      ],
      "execution_count": 0,
      "outputs": []
    },
    {
      "cell_type": "code",
      "metadata": {
        "id": "UW_RpgAM2A-M",
        "colab_type": "code",
        "colab": {}
      },
      "source": [
        "correct_prediction = tf.equal(tf.argmax(Y_train,1), tf.argmax(predicted_Y,1))\n",
        "\n",
        "accuracy = tf.reduce_mean(tf.cast(correct_prediction, tf.float32))"
      ],
      "execution_count": 0,
      "outputs": []
    },
    {
      "cell_type": "code",
      "metadata": {
        "id": "wDKg2Tgx3BwM",
        "colab_type": "code",
        "colab": {}
      },
      "source": [
        "batch_size = 128\n",
        "epochs=14\n",
        "dropout_prob = 0.6\n",
        "training_accuracy = []\n",
        "training_loss = []\n",
        "testing_accuracy = []"
      ],
      "execution_count": 0,
      "outputs": []
    },
    {
      "cell_type": "code",
      "metadata": {
        "id": "9GPioTK53L-X",
        "colab_type": "code",
        "colab": {
          "base_uri": "https://localhost:8080/",
          "height": 255
        },
        "outputId": "e45b23fb-80b6-4190-e013-75bf3a333b8b"
      },
      "source": [
        "s.run(tf.global_variables_initializer())\n",
        "\n",
        "for epoch in range(epochs):    \n",
        "    arr = np.arange(X_train.shape[0])\n",
        "    np.random.shuffle(arr)\n",
        "    for index in range(0,X_train.shape[0],batch_size):\n",
        "        s.run(optimizer, {input_X: X_train[arr[index:index+batch_size]],input_Y: Y_train[arr[index:index+batch_size]],keep_prob:dropout_prob})\n",
        "    training_accuracy.append(s.run(accuracy, feed_dict= {input_X:X_train,input_Y: Y_train,keep_prob:1}))\n",
        "    \n",
        "    training_loss.append(s.run(loss, {input_X: X_train,input_Y: Y_train,keep_prob:1}))\n",
        "    \n",
        "    testing_accuracy.append(accuracy_score(Y_test.argmax(1),s.run(predicted_Y, {input_X: X_test,keep_prob:1}).argmax(1)))\n",
        "\n",
        "    print(\"Epoch:{0}, Train loss: {1:.2f} Train acc: {2:.3f}, Test acc:{3:.3f}\".format(epoch,training_loss[epoch],training_accuracy[epoch],testing_accuracy[epoch]))\n"
      ],
      "execution_count": 54,
      "outputs": [
        {
          "output_type": "stream",
          "text": [
            "Epoch:0, Train loss: 42.37 Train acc: 0.937, Test acc:0.935\n",
            "Epoch:1, Train loss: 23.45 Train acc: 0.953, Test acc:0.950\n",
            "Epoch:2, Train loss: 13.11 Train acc: 0.966, Test acc:0.962\n",
            "Epoch:3, Train loss: 7.50 Train acc: 0.972, Test acc:0.968\n",
            "Epoch:4, Train loss: 4.50 Train acc: 0.976, Test acc:0.968\n",
            "Epoch:5, Train loss: 2.93 Train acc: 0.980, Test acc:0.972\n",
            "Epoch:6, Train loss: 2.14 Train acc: 0.983, Test acc:0.975\n",
            "Epoch:7, Train loss: 1.77 Train acc: 0.983, Test acc:0.974\n",
            "Epoch:8, Train loss: 1.59 Train acc: 0.986, Test acc:0.976\n",
            "Epoch:9, Train loss: 1.52 Train acc: 0.987, Test acc:0.978\n",
            "Epoch:10, Train loss: 1.49 Train acc: 0.988, Test acc:0.978\n",
            "Epoch:11, Train loss: 1.47 Train acc: 0.988, Test acc:0.977\n",
            "Epoch:12, Train loss: 1.47 Train acc: 0.990, Test acc:0.979\n",
            "Epoch:13, Train loss: 1.47 Train acc: 0.991, Test acc:0.979\n"
          ],
          "name": "stdout"
        }
      ]
    },
    {
      "cell_type": "code",
      "metadata": {
        "id": "LqAtRYVf3-jt",
        "colab_type": "code",
        "colab": {
          "base_uri": "https://localhost:8080/",
          "height": 279
        },
        "outputId": "8fe9e85b-7bb5-4252-b565-c7fa9f4ab197"
      },
      "source": [
        "iterations = list(range(epochs))\n",
        "\n",
        "plt.plot(iterations, training_accuracy, label='Train')\n",
        "plt.plot(iterations, testing_accuracy, label='Test')\n",
        "\n",
        "plt.ylabel('Accuracy')\n",
        "plt.xlabel('iterations')\n",
        "\n",
        "plt.show()\n"
      ],
      "execution_count": 55,
      "outputs": [
        {
          "output_type": "display_data",
          "data": {
            "image/png": "[encoded data removed]",
            "text/plain": [
              "<Figure size 432x288 with 1 Axes>"
            ]
          },
          "metadata": {
            "tags": []
          }
        }
      ]
    },
    {
      "cell_type": "code",
      "metadata": {
        "id": "A6e_H8674Scs",
        "colab_type": "code",
        "colab": {
          "base_uri": "https://localhost:8080/",
          "height": 51
        },
        "outputId": "aa352a61-214a-4164-fffc-a57dc2e7b386"
      },
      "source": [
        "\n",
        "print(\"Train Accuracy: {0:.2f}\".format(training_accuracy[-1]))\n",
        "\n",
        "print(\"Test Accuracy:{0:.2f}\".format(testing_accuracy[-1]))"
      ],
      "execution_count": 56,
      "outputs": [
        {
          "output_type": "stream",
          "text": [
            "Train Accuracy: 0.99\n",
            "Test Accuracy:0.98\n"
          ],
          "name": "stdout"
        }
      ]
    },
    {
      "cell_type": "code",
      "metadata": {
        "id": "vnOrd46p4ckC",
        "colab_type": "code",
        "colab": {}
      },
      "source": [
        ""
      ],
      "execution_count": 0,
      "outputs": []
    }
  ]
}